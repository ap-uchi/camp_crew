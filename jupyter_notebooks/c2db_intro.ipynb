{
 "cells": [
  {
   "cell_type": "code",
   "execution_count": 1,
   "metadata": {},
   "outputs": [],
   "source": [
    "from math import floor\n",
    "import numpy as np\n",
    "import matplotlib.pyplot as plt\n",
    "from ase.db import connect\n",
    "import asr"
   ]
  },
  {
   "cell_type": "code",
   "execution_count": 2,
   "metadata": {},
   "outputs": [],
   "source": [
    "from asr.database import parse_row_data"
   ]
  },
  {
   "cell_type": "code",
   "execution_count": 3,
   "metadata": {},
   "outputs": [
    {
     "data": {
      "text/plain": [
       "[]"
      ]
     },
     "execution_count": 3,
     "metadata": {},
     "output_type": "execute_result"
    }
   ],
   "source": [
    "db = connect('c2db.db')\n",
    "\n",
    "# Select a row that has HSE06 data:\n",
    "bandstructure_results = []\n",
    "for row in db.select('has_asr_bandstructure'):\n",
    "    data = parse_row_data(row.data)\n",
    "    bs = data['results-asr.bandstructure.json']\n",
    "    bandstructure_results.append(bs)\n",
    "#record = row.cache.get(name='asr.c2db.hse:main')\n",
    "#result = record.result\n",
    "#\n",
    "#print(result.kvbm)\n",
    "#print(result.kcbm)\n",
    "bandstructure_results"
   ]
  },
  {
   "cell_type": "code",
   "execution_count": 6,
   "metadata": {},
   "outputs": [
    {
     "ename": "AttributeError",
     "evalue": "'NoneType' object has no attribute 'cache'",
     "output_type": "error",
     "traceback": [
      "\u001b[0;31m---------------------------------------------------------------------------\u001b[0m",
      "\u001b[0;31mAttributeError\u001b[0m                            Traceback (most recent call last)",
      "Cell \u001b[0;32mIn[6], line 9\u001b[0m\n\u001b[1;32m      6\u001b[0m     r \u001b[39m=\u001b[39m row\n\u001b[1;32m      7\u001b[0m     \u001b[39mbreak\u001b[39;00m\n\u001b[0;32m----> 9\u001b[0m record \u001b[39m=\u001b[39m r\u001b[39m.\u001b[39;49mcache\u001b[39m.\u001b[39mget(name\u001b[39m=\u001b[39m\u001b[39m'\u001b[39m\u001b[39masr.c2db.hse:main\u001b[39m\u001b[39m'\u001b[39m)\n\u001b[1;32m     10\u001b[0m result \u001b[39m=\u001b[39m record\u001b[39m.\u001b[39mresult\n\u001b[1;32m     12\u001b[0m \u001b[39mprint\u001b[39m(result\u001b[39m.\u001b[39mkvbm)\n",
      "\u001b[0;31mAttributeError\u001b[0m: 'NoneType' object has no attribute 'cache'"
     ]
    }
   ],
   "source": [
    "db = connect('c2db.db')\n",
    "\n",
    "# Select a row that has HSE06 data:\n",
    "for row in db.select(has_asr_hse=True):\n",
    "    break\n",
    "\n",
    "record = row.cache.get(name='asr.c2db.hse:main')\n",
    "result = record.result\n",
    "\n",
    "print(result.kvbm)\n",
    "print(result.kcbm)"
   ]
  },
  {
   "cell_type": "code",
   "execution_count": 5,
   "metadata": {},
   "outputs": [
    {
     "data": {
      "text/plain": [
       "<generator object Database.select at 0x7f2c0d788740>"
      ]
     },
     "execution_count": 5,
     "metadata": {},
     "output_type": "execute_result"
    }
   ],
   "source": [
    "# Connect to database\n",
    "db = connect('c2db.db')\n",
    "\n",
    "rows = db.select('gap>0,class=TMDC-H', sort='gap')\n",
    "rows"
   ]
  },
  {
   "cell_type": "code",
   "execution_count": 6,
   "metadata": {},
   "outputs": [
    {
     "data": {
      "text/plain": [
       "[]"
      ]
     },
     "execution_count": 6,
     "metadata": {},
     "output_type": "execute_result"
    }
   ],
   "source": [
    "labels = []\n",
    "vbms = []\n",
    "cbms = []\n",
    "for row in rows:\n",
    "    M, X = row.symbols[:2]\n",
    "    label = M + X + '$_2$'\n",
    "    labels.append(label)\n",
    "    vbms.append(row.vbm)\n",
    "    cbms.append(row.cbm)\n",
    "cbms"
   ]
  },
  {
   "cell_type": "code",
   "execution_count": null,
   "metadata": {},
   "outputs": [],
   "source": [
    "\n",
    "\n",
    "\n",
    "x = np.arange(len(vbms)) + 0.5\n",
    "emin = floor(min(vbms)) - 1.0\n",
    "\n",
    "# Width and height in pixels\n",
    "ppi = 100\n",
    "figw = 800\n",
    "figh = 400\n",
    "\n",
    "fig = plt.figure(figsize=(figw / ppi, figh / ppi), dpi=ppi)\n",
    "ax = fig.add_subplot(1, 1, 1)\n",
    "ax.bar(x, np.array(vbms) - emin, bottom=emin)\n",
    "ax.bar(x, -np.array(cbms), bottom=cbms)\n",
    "ax.set_xlim(0, len(labels))\n",
    "ax.set_ylim(emin, 0)\n",
    "ax.set_xticks(x)\n",
    "ax.set_xticklabels(labels, rotation=90, fontsize=10)\n",
    "\n",
    "plt.title(\"2H-TMD's: Positions of VBM and CBM (PBE+SOC)\", fontsize=12)\n",
    "plt.ylabel('Energy relative to vacuum [eV]', fontsize=10)\n",
    "plt.tight_layout()\n",
    "plt.savefig('band-alignment.png')"
   ]
  },
  {
   "cell_type": "code",
   "execution_count": 4,
   "metadata": {},
   "outputs": [
    {
     "ename": "KeyError",
     "evalue": "'no match'",
     "output_type": "error",
     "traceback": [
      "\u001b[0;31m---------------------------------------------------------------------------\u001b[0m",
      "\u001b[0;31mKeyError\u001b[0m                                  Traceback (most recent call last)",
      "Cell \u001b[0;32mIn[4], line 10\u001b[0m\n\u001b[1;32m      7\u001b[0m \u001b[39mfrom\u001b[39;00m \u001b[39mscipy\u001b[39;00m\u001b[39m.\u001b[39;00m\u001b[39minterpolate\u001b[39;00m \u001b[39mimport\u001b[39;00m interp1d\n\u001b[1;32m      9\u001b[0m db \u001b[39m=\u001b[39m connect(\u001b[39m'\u001b[39m\u001b[39mc2db.db\u001b[39m\u001b[39m'\u001b[39m)\n\u001b[0;32m---> 10\u001b[0m row \u001b[39m=\u001b[39m db\u001b[39m.\u001b[39;49mget(formula\u001b[39m=\u001b[39;49m\u001b[39m'\u001b[39;49m\u001b[39mBN\u001b[39;49m\u001b[39m'\u001b[39;49m)\n\u001b[1;32m     12\u001b[0m dct \u001b[39m=\u001b[39m row\u001b[39m.\u001b[39mdata[\u001b[39m'\u001b[39m\u001b[39mresults-asr.infraredpolarizability.json\u001b[39m\u001b[39m'\u001b[39m]\n\u001b[1;32m     13\u001b[0m irpol \u001b[39m=\u001b[39m InfraredPolarizabilityResult(\u001b[39m*\u001b[39m\u001b[39m*\u001b[39mdct[\u001b[39m'\u001b[39m\u001b[39mkwargs\u001b[39m\u001b[39m'\u001b[39m])\n",
      "File \u001b[0;32m~/mambaforge/envs/ssmcdat/lib/python3.10/site-packages/ase/db/core.py:432\u001b[0m, in \u001b[0;36mDatabase.get\u001b[0;34m(self, selection, **kwargs)\u001b[0m\n\u001b[1;32m    430\u001b[0m rows \u001b[39m=\u001b[39m \u001b[39mlist\u001b[39m(\u001b[39mself\u001b[39m\u001b[39m.\u001b[39mselect(selection, limit\u001b[39m=\u001b[39m\u001b[39m2\u001b[39m, \u001b[39m*\u001b[39m\u001b[39m*\u001b[39mkwargs))\n\u001b[1;32m    431\u001b[0m \u001b[39mif\u001b[39;00m \u001b[39mnot\u001b[39;00m rows:\n\u001b[0;32m--> 432\u001b[0m     \u001b[39mraise\u001b[39;00m \u001b[39mKeyError\u001b[39;00m(\u001b[39m'\u001b[39m\u001b[39mno match\u001b[39m\u001b[39m'\u001b[39m)\n\u001b[1;32m    433\u001b[0m \u001b[39massert\u001b[39;00m \u001b[39mlen\u001b[39m(rows) \u001b[39m==\u001b[39m \u001b[39m1\u001b[39m, \u001b[39m'\u001b[39m\u001b[39mmore than one row matched\u001b[39m\u001b[39m'\u001b[39m\n\u001b[1;32m    434\u001b[0m \u001b[39mreturn\u001b[39;00m rows[\u001b[39m0\u001b[39m]\n",
      "\u001b[0;31mKeyError\u001b[0m: 'no match'"
     ]
    }
   ],
   "source": [
    "# creates: fig18.png\n",
    "import matplotlib.pyplot as plt\n",
    "from asr.infraredpolarizability import \\\n",
    "    Result as InfraredPolarizabilityResult\n",
    "from asr.polarizability import Result as PolarizabilityResult\n",
    "from ase.db import connect\n",
    "from scipy.interpolate import interp1d\n",
    "\n",
    "db = connect('c2db.db')\n",
    "row = db.get(formula='BN')\n",
    "\n",
    "dct = row.data['results-asr.infraredpolarizability.json']\n",
    "irpol = InfraredPolarizabilityResult(**dct['kwargs'])\n",
    "freq = irpol.omega_w\n",
    "iralpha = irpol.alpha_wvv[:, 0, 0]  # xx-component\n",
    "\n",
    "dct = row.data['results-asr.polarizability.json']\n",
    "elpol = PolarizabilityResult(**dct['kwargs'])\n",
    "x = elpol.frequencies\n",
    "y = elpol.alphax_w\n",
    "# Interpolate to IR frequency grid:\n",
    "elalpha = (interp1d(x, y.real)(freq) +\n",
    "           interp1d(x, y.imag)(freq) * 1j)\n",
    "\n",
    "alpha = iralpha + elalpha\n",
    "\n",
    "ax = plt.subplot()\n",
    "ax.plot(freq * 1000, alpha.real, label='real')\n",
    "ax.plot(freq * 1000, alpha.imag, label='imag')\n",
    "ax.set_xlabel('Energy [meV]')\n",
    "ax.set_ylabel(r'Polarizability [$\\mathrm{\\AA}$]')\n",
    "ax.set_xlim(0, 500)\n",
    "ax.legend()\n",
    "plt.tight_layout()\n",
    "plt.savefig('fig18.png')"
   ]
  },
  {
   "cell_type": "code",
   "execution_count": null,
   "metadata": {},
   "outputs": [],
   "source": []
  }
 ],
 "metadata": {
  "kernelspec": {
   "display_name": "ssmcdat",
   "language": "python",
   "name": "python3"
  },
  "language_info": {
   "codemirror_mode": {
    "name": "ipython",
    "version": 3
   },
   "file_extension": ".py",
   "mimetype": "text/x-python",
   "name": "python",
   "nbconvert_exporter": "python",
   "pygments_lexer": "ipython3",
   "version": "3.10.0"
  },
  "orig_nbformat": 4,
  "vscode": {
   "interpreter": {
    "hash": "942b58b71b214d6019b739d374c6089632c350bd2bac6438bd9c88b74ed2db48"
   }
  }
 },
 "nbformat": 4,
 "nbformat_minor": 2
}
