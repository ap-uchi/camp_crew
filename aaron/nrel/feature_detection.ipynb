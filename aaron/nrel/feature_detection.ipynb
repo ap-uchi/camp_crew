{
 "cells": [
  {
   "cell_type": "code",
   "execution_count": 50,
   "metadata": {},
   "outputs": [],
   "source": [
    "import glob\n",
    "import os\n",
    "import pickle as pkl\n",
    "import re\n",
    "import sys\n",
    "\n",
    "from matplotlib import pyplot as plt\n",
    "import numpy as np\n",
    "import pandas as pd\n",
    "from tqdm import tqdm"
   ]
  },
  {
   "cell_type": "code",
   "execution_count": 51,
   "metadata": {},
   "outputs": [],
   "source": [
    "with open(\"../../datasets/nrel_abx3_db.pkl\", \"rb\") as f:\n",
    "    nrel_db = pkl.load(f)"
   ]
  },
  {
   "cell_type": "code",
   "execution_count": 52,
   "metadata": {},
   "outputs": [
    {
     "name": "stdout",
     "output_type": "stream",
     "text": [
      "N Features: 30\n",
      "N Relevant Features: 23\n"
     ]
    },
    {
     "data": {
      "text/plain": [
       "['sorted formula     sorted chemical formula',\n",
       " 'ΔHf (eV/atom)     final enthalpy, eV/atom',\n",
       " 'Stb     qhull stability',\n",
       " 'ΔHGS enthalpy wrt ground state',\n",
       " 'ΔHDecomp enthalpy wrt decomp',\n",
       " 'ΔEGS energyperatom wrt ground state',\n",
       " 'ICSD SG     ICSD space group number',\n",
       " 'final SG     final space group number',\n",
       " 'Etot (eV/Atom)     total energy, per atom, eV/Atom',\n",
       " 'minID     id having min energy for this formula',\n",
       " 'ΔEcbm     gwvd: Ecbm - parentEcbm: difference in conduction band minimum energy, eV',\n",
       " 'ΔEvbm     gwvd: Evbm - parentEvbm: difference in valence band maximum energy, eV',\n",
       " 'εe(IP)     static electronic dielectric constant (independent particle)',\n",
       " 'εe(TDDFT)     static electronic dielectric constant (TD-DFT)',\n",
       " 'εe(post-lopt)     static electronic dielectric constant (from post-lopt)',\n",
       " 'Eg (eV)     bandgap, eV',\n",
       " 'Eg,d (eV)     direct bandgap, eV',\n",
       " 'me*/m0 DOS effective mass for electrons, T=1000K',\n",
       " 'mh*/m0 DOS effective mass for holes, T=1000K',\n",
       " 'netCharge     net charge',\n",
       " 'pressure     final pressure, Kbar',\n",
       " 'mag mom     magnetic moment',\n",
       " 'numSpin     number of spin values: 1(non-polarized) or 2(polarized)']"
      ]
     },
     "execution_count": 52,
     "metadata": {},
     "output_type": "execute_result"
    }
   ],
   "source": [
    "features = list(filter(lambda x: len(x) > 0, nrel_db.keys()))\n",
    "relevant_features = features[1:-6]\n",
    "print(f\"N Features: {len(features)}\")\n",
    "print(f\"N Relevant Features: {len(relevant_features)}\")\n",
    "relevant_features"
   ]
  },
  {
   "cell_type": "code",
   "execution_count": 53,
   "metadata": {},
   "outputs": [],
   "source": [
    "nrel_db = nrel_db.replace(regex='', value=np.nan)"
   ]
  },
  {
   "cell_type": "code",
   "execution_count": 54,
   "metadata": {},
   "outputs": [],
   "source": [
    "nrel_clean = nrel_db[nrel_db.columns[nrel_db.columns != '']]"
   ]
  },
  {
   "cell_type": "code",
   "execution_count": 55,
   "metadata": {},
   "outputs": [],
   "source": [
    "def cast_df(df, debug=False):\n",
    "    final_df = pd.DataFrame()\n",
    "    for col_label in df.columns:\n",
    "        if debug: print(col_label)\n",
    "        current_type = None\n",
    "        if col_label in final_df.columns:\n",
    "            current_type = final_df[col_label].dtype\n",
    "            if debug and False: print(current_type)\n",
    "        for t in [int, float, bool]:\n",
    "            try:\n",
    "                if current_type in {float, int, bool}:\n",
    "                    break\n",
    "                casted_col = df[col_label].astype(t)\n",
    "                final_df[col_label] = casted_col\n",
    "                if debug: print(f\"col {col_label} cast as {t}\")\n",
    "            except:\n",
    "                if debug and False: print(f\"type {t} failed for {col_label}\")\n",
    "                continue\n",
    "        if current_type == None:\n",
    "            final_df[col_label] = df[col_label].astype(str)\n",
    "    if debug: print(df[col_label])\n",
    "\n",
    "    return final_df"
   ]
  },
  {
   "cell_type": "code",
   "execution_count": 63,
   "metadata": {},
   "outputs": [],
   "source": [
    "with open(\"nrel_clean.pkl\", \"wb\") as f:\n",
    "    pkl.dump(nrel_clean, f)"
   ]
  },
  {
   "cell_type": "code",
   "execution_count": 67,
   "metadata": {},
   "outputs": [
    {
     "data": {
      "text/plain": [
       "47"
      ]
     },
     "execution_count": 67,
     "metadata": {},
     "output_type": "execute_result"
    }
   ],
   "source": [
    "static_ep_label = 'εe(IP)     static electronic dielectric constant (independent particle)'\n",
    "static_ep = nrel_clean[static_ep_label]\n",
    "len(static_ep[static_ep.notna()])"
   ]
  },
  {
   "cell_type": "code",
   "execution_count": 70,
   "metadata": {},
   "outputs": [
    {
     "data": {
      "text/plain": [
       "47"
      ]
     },
     "execution_count": 70,
     "metadata": {},
     "output_type": "execute_result"
    }
   ],
   "source": [
    "static_ep_tddft = nrel_clean['εe(TDDFT)     static electronic dielectric constant (TD-DFT)']\n",
    "len(static_ep_tddft[static_ep_tddft.notna()])\n"
   ]
  },
  {
   "cell_type": "code",
   "execution_count": 71,
   "metadata": {},
   "outputs": [
    {
     "data": {
      "text/plain": [
       "1174"
      ]
     },
     "execution_count": 71,
     "metadata": {},
     "output_type": "execute_result"
    }
   ],
   "source": [
    "eff_mass = nrel_clean['me*/m0 DOS effective mass for electrons, T=1000K']\n",
    "len(eff_mass[eff_mass.notna()])"
   ]
  },
  {
   "cell_type": "code",
   "execution_count": 74,
   "metadata": {},
   "outputs": [],
   "source": [
    "nonzero_idxs = dict()\n",
    "for k in nrel_clean.columns:\n",
    "    x = nrel_clean[k]\n",
    "    nonzero_idxs[k] = x[x.notna()].index"
   ]
  },
  {
   "cell_type": "code",
   "execution_count": 76,
   "metadata": {},
   "outputs": [
    {
     "data": {
      "text/plain": [
       "id     MatDB ID                                                                        1639\n",
       "sorted formula     sorted chemical formula                                             1639\n",
       "ΔHf (eV/atom)     final enthalpy, eV/atom                                               991\n",
       "Stb     qhull stability                                                                 991\n",
       "ΔHGS enthalpy wrt ground state                                                          991\n",
       "ΔHDecomp enthalpy wrt decomp                                                            991\n",
       "ΔEGS energyperatom wrt ground state                                                     991\n",
       "ICSD SG     ICSD space group number                                                    1318\n",
       "final SG     final space group number                                                  1639\n",
       "Etot (eV/Atom)     total energy, per atom, eV/Atom                                     1592\n",
       "minID     id having min energy for this formula                                        1452\n",
       "ΔEcbm     gwvd: Ecbm - parentEcbm: difference in conduction band minimum energy, eV      47\n",
       "ΔEvbm     gwvd: Evbm - parentEvbm: difference in valence band maximum energy, eV         47\n",
       "εe(IP)     static electronic dielectric constant (independent particle)                  47\n",
       "εe(TDDFT)     static electronic dielectric constant (TD-DFT)                             47\n",
       "εe(post-lopt)     static electronic dielectric constant (from post-lopt)                 46\n",
       "Eg (eV)     bandgap, eV                                                                1174\n",
       "Eg,d (eV)     direct bandgap, eV                                                       1174\n",
       "me*/m0 DOS effective mass for electrons, T=1000K                                       1174\n",
       "mh*/m0 DOS effective mass for holes, T=1000K                                           1174\n",
       "netCharge     net charge                                                               1639\n",
       "pressure     final pressure, Kbar                                                      1499\n",
       "mag mom     magnetic moment                                                             965\n",
       "numSpin     number of spin values: 1(non-polarized) or 2(polarized)                    1639\n",
       "icsdId     ICSD id                                                                     1318\n",
       "lastName     Last name of the researcher.                                              1639\n",
       "standards     standards                                                                1639\n",
       "keywords     keywords                                                                  1639\n",
       "parents     parents                                                                     248\n",
       "Family     Family ID                                                                      0\n",
       "dtype: int64"
      ]
     },
     "execution_count": 76,
     "metadata": {},
     "output_type": "execute_result"
    }
   ],
   "source": [
    "nz_lens = dict()\n",
    "for k in nonzero_idxs.keys():\n",
    "    nz_lens[k] = len(nonzero_idxs[k])\n",
    "pd.Series(nz_lens)"
   ]
  },
  {
   "cell_type": "code",
   "execution_count": null,
   "metadata": {},
   "outputs": [],
   "source": []
  }
 ],
 "metadata": {
  "kernelspec": {
   "display_name": "ssmcdat",
   "language": "python",
   "name": "python3"
  },
  "language_info": {
   "codemirror_mode": {
    "name": "ipython",
    "version": 3
   },
   "file_extension": ".py",
   "mimetype": "text/x-python",
   "name": "python",
   "nbconvert_exporter": "python",
   "pygments_lexer": "ipython3",
   "version": "3.10.0"
  },
  "orig_nbformat": 4,
  "vscode": {
   "interpreter": {
    "hash": "942b58b71b214d6019b739d374c6089632c350bd2bac6438bd9c88b74ed2db48"
   }
  }
 },
 "nbformat": 4,
 "nbformat_minor": 2
}
