{
 "cells": [
  {
   "cell_type": "code",
   "execution_count": 3,
   "metadata": {},
   "outputs": [],
   "source": [
    "import glob\n",
    "import os\n",
    "import pickle as pkl\n",
    "import re\n",
    "import sys\n",
    "\n",
    "import ase\n",
    "import dscribe\n",
    "from matplotlib import pyplot as plt\n",
    "import numpy as np\n",
    "import pandas as pd\n",
    "from tqdm import tqdm"
   ]
  },
  {
   "cell_type": "code",
   "execution_count": 4,
   "metadata": {},
   "outputs": [],
   "source": [
    "from ase import io"
   ]
  },
  {
   "cell_type": "code",
   "execution_count": 5,
   "metadata": {},
   "outputs": [],
   "source": [
    "atoms = io.read('../../../nrel/icsd_ab3/cif_files/_CollCode100015.cif')"
   ]
  },
  {
   "cell_type": "code",
   "execution_count": 6,
   "metadata": {},
   "outputs": [
    {
     "data": {
      "text/plain": [
       "array([39, 39, 39, 39, 39, 39,  5,  5,  5,  5,  5,  5,  8,  8,  8,  8,  8,\n",
       "        8,  8,  8,  8,  8,  8,  8,  8,  8,  8,  8,  8,  8])"
      ]
     },
     "execution_count": 6,
     "metadata": {},
     "output_type": "execute_result"
    }
   ],
   "source": [
    "atoms.get_atomic_numbers()"
   ]
  },
  {
   "cell_type": "code",
   "execution_count": 12,
   "metadata": {},
   "outputs": [
    {
     "ename": "ImportError",
     "evalue": "cannot import name 'Iterable' from 'collections' (/home/apeng/mambaforge/envs/ssmcdat/lib/python3.10/collections/__init__.py)",
     "output_type": "error",
     "traceback": [
      "\u001b[0;31m---------------------------------------------------------------------------\u001b[0m",
      "\u001b[0;31mImportError\u001b[0m                               Traceback (most recent call last)",
      "Cell \u001b[0;32mIn[12], line 1\u001b[0m\n\u001b[0;32m----> 1\u001b[0m \u001b[39mfrom\u001b[39;00m \u001b[39mdscribe\u001b[39;00m\u001b[39m.\u001b[39;00m\u001b[39mdescriptors\u001b[39;00m \u001b[39mimport\u001b[39;00m mbtr\n",
      "File \u001b[0;32m~/mambaforge/envs/ssmcdat/lib/python3.10/site-packages/dscribe/descriptors/__init__.py:16\u001b[0m\n\u001b[1;32m      1\u001b[0m \u001b[39m# -*- coding: utf-8 -*-\u001b[39;00m\n\u001b[1;32m      2\u001b[0m \u001b[39m\"\"\"Copyright 2019 DScribe developers\u001b[39;00m\n\u001b[1;32m      3\u001b[0m \n\u001b[1;32m      4\u001b[0m \u001b[39mLicensed under the Apache License, Version 2.0 (the \"License\");\u001b[39;00m\n\u001b[0;32m   (...)\u001b[0m\n\u001b[1;32m     14\u001b[0m \u001b[39mlimitations under the License.\u001b[39;00m\n\u001b[1;32m     15\u001b[0m \u001b[39m\"\"\"\u001b[39;00m\n\u001b[0;32m---> 16\u001b[0m \u001b[39mfrom\u001b[39;00m \u001b[39mdscribe\u001b[39;00m\u001b[39m.\u001b[39;00m\u001b[39mdescriptors\u001b[39;00m\u001b[39m.\u001b[39;00m\u001b[39mdescriptor\u001b[39;00m \u001b[39mimport\u001b[39;00m Descriptor\n\u001b[1;32m     17\u001b[0m \u001b[39mfrom\u001b[39;00m \u001b[39mdscribe\u001b[39;00m\u001b[39m.\u001b[39;00m\u001b[39mdescriptors\u001b[39;00m\u001b[39m.\u001b[39;00m\u001b[39macsf\u001b[39;00m \u001b[39mimport\u001b[39;00m ACSF\n\u001b[1;32m     18\u001b[0m \u001b[39mfrom\u001b[39;00m \u001b[39mdscribe\u001b[39;00m\u001b[39m.\u001b[39;00m\u001b[39mdescriptors\u001b[39;00m\u001b[39m.\u001b[39;00m\u001b[39mmbtr\u001b[39;00m \u001b[39mimport\u001b[39;00m MBTR\n",
      "File \u001b[0;32m~/mambaforge/envs/ssmcdat/lib/python3.10/site-packages/dscribe/descriptors/descriptor.py:20\u001b[0m\n\u001b[1;32m     16\u001b[0m \u001b[39mfrom\u001b[39;00m \u001b[39mabc\u001b[39;00m \u001b[39mimport\u001b[39;00m ABC, abstractmethod\n\u001b[1;32m     18\u001b[0m \u001b[39mimport\u001b[39;00m \u001b[39mnumpy\u001b[39;00m \u001b[39mas\u001b[39;00m \u001b[39mnp\u001b[39;00m\n\u001b[0;32m---> 20\u001b[0m \u001b[39mimport\u001b[39;00m \u001b[39msparse\u001b[39;00m \u001b[39mas\u001b[39;00m \u001b[39msp\u001b[39;00m\n\u001b[1;32m     22\u001b[0m \u001b[39mfrom\u001b[39;00m \u001b[39mase\u001b[39;00m \u001b[39mimport\u001b[39;00m Atoms\n\u001b[1;32m     23\u001b[0m \u001b[39mfrom\u001b[39;00m \u001b[39mdscribe\u001b[39;00m\u001b[39m.\u001b[39;00m\u001b[39mcore\u001b[39;00m\u001b[39m.\u001b[39;00m\u001b[39msystem\u001b[39;00m \u001b[39mimport\u001b[39;00m System\n",
      "File \u001b[0;32m~/mambaforge/envs/ssmcdat/lib/python3.10/site-packages/sparse/__init__.py:1\u001b[0m\n\u001b[0;32m----> 1\u001b[0m \u001b[39mfrom\u001b[39;00m \u001b[39m.\u001b[39;00m\u001b[39mcoo\u001b[39;00m \u001b[39mimport\u001b[39;00m COO, elemwise, tensordot, concatenate, stack, dot, triu, tril, where, \\\n\u001b[1;32m      2\u001b[0m     nansum, nanprod, nanmin, nanmax\n\u001b[1;32m      3\u001b[0m \u001b[39mfrom\u001b[39;00m \u001b[39m.\u001b[39;00m\u001b[39mdok\u001b[39;00m \u001b[39mimport\u001b[39;00m DOK\n\u001b[1;32m      4\u001b[0m \u001b[39mfrom\u001b[39;00m \u001b[39m.\u001b[39;00m\u001b[39msparse_array\u001b[39;00m \u001b[39mimport\u001b[39;00m SparseArray\n",
      "File \u001b[0;32m~/mambaforge/envs/ssmcdat/lib/python3.10/site-packages/sparse/coo.py:4\u001b[0m\n\u001b[1;32m      1\u001b[0m \u001b[39mfrom\u001b[39;00m \u001b[39m__future__\u001b[39;00m \u001b[39mimport\u001b[39;00m absolute_import, division, print_function\n\u001b[1;32m      3\u001b[0m \u001b[39mimport\u001b[39;00m \u001b[39mwarnings\u001b[39;00m\n\u001b[0;32m----> 4\u001b[0m \u001b[39mfrom\u001b[39;00m \u001b[39mcollections\u001b[39;00m \u001b[39mimport\u001b[39;00m Iterable, defaultdict, deque\n\u001b[1;32m      5\u001b[0m \u001b[39mfrom\u001b[39;00m \u001b[39mfunctools\u001b[39;00m \u001b[39mimport\u001b[39;00m reduce\n\u001b[1;32m      6\u001b[0m \u001b[39mfrom\u001b[39;00m \u001b[39mitertools\u001b[39;00m \u001b[39mimport\u001b[39;00m product\n",
      "\u001b[0;31mImportError\u001b[0m: cannot import name 'Iterable' from 'collections' (/home/apeng/mambaforge/envs/ssmcdat/lib/python3.10/collections/__init__.py)"
     ]
    }
   ],
   "source": [
    "from dscribe.descriptors import mbtr"
   ]
  },
  {
   "cell_type": "code",
   "execution_count": 9,
   "metadata": {},
   "outputs": [],
   "source": [
    "def obtain_mbtr(cif_file):\n",
    "    icsd_ID = re.search(re.compile(\"Code(?P<id>\\d*)\"), cif_file).groupdict()[\"id\"]\n",
    "    atoms = io.read(cif_file)\n",
    "    mbtr_maker = MBTR.__init__(\n",
    "            atoms.get_atomic_numbers(), periodic=True)\n",
    "    mbtr = mbtr_maker.create(atoms)\n",
    "    flat_mbtr = mbtr.flatten()\n",
    "    col_labels = [\"mbtr_{i}\" for i in range(len(flat_mbtr))]\n",
    "    final = pd.DataFrame(data=flat_mbtr, columns=col_labels, index=icsd_ID)\n",
    "    final.index.name=\"ICSD_ID\"\n",
    "    return final"
   ]
  },
  {
   "cell_type": "code",
   "execution_count": 10,
   "metadata": {},
   "outputs": [
    {
     "ename": "AttributeError",
     "evalue": "module 'dscribe' has no attribute 'MBTR'",
     "output_type": "error",
     "traceback": [
      "\u001b[0;31m---------------------------------------------------------------------------\u001b[0m",
      "\u001b[0;31mAttributeError\u001b[0m                            Traceback (most recent call last)",
      "Cell \u001b[0;32mIn[10], line 1\u001b[0m\n\u001b[0;32m----> 1\u001b[0m obtain_mbtr(\u001b[39m'\u001b[39;49m\u001b[39m../../../nrel/icsd_ab3/cif_files/_CollCode100015.cif\u001b[39;49m\u001b[39m'\u001b[39;49m)\n",
      "Cell \u001b[0;32mIn[9], line 4\u001b[0m, in \u001b[0;36mobtain_mbtr\u001b[0;34m(cif_file)\u001b[0m\n\u001b[1;32m      2\u001b[0m icsd_ID \u001b[39m=\u001b[39m re\u001b[39m.\u001b[39msearch(re\u001b[39m.\u001b[39mcompile(\u001b[39m\"\u001b[39m\u001b[39mCode(?P<id>\u001b[39m\u001b[39m\\\u001b[39m\u001b[39md*)\u001b[39m\u001b[39m\"\u001b[39m), cif_file)\u001b[39m.\u001b[39mgroupdict()[\u001b[39m\"\u001b[39m\u001b[39mid\u001b[39m\u001b[39m\"\u001b[39m]\n\u001b[1;32m      3\u001b[0m atoms \u001b[39m=\u001b[39m io\u001b[39m.\u001b[39mread(cif_file)\n\u001b[0;32m----> 4\u001b[0m mbtr_maker \u001b[39m=\u001b[39m dscribe\u001b[39m.\u001b[39;49mMBTR\u001b[39m.\u001b[39m\u001b[39m__init__\u001b[39m(\n\u001b[1;32m      5\u001b[0m         atoms\u001b[39m.\u001b[39mget_atomic_numbers(), periodic\u001b[39m=\u001b[39m\u001b[39mTrue\u001b[39;00m)\n\u001b[1;32m      6\u001b[0m mbtr \u001b[39m=\u001b[39m mbtr_maker\u001b[39m.\u001b[39mcreate(atoms)\n\u001b[1;32m      7\u001b[0m flat_mbtr \u001b[39m=\u001b[39m mbtr\u001b[39m.\u001b[39mflatten()\n",
      "\u001b[0;31mAttributeError\u001b[0m: module 'dscribe' has no attribute 'MBTR'"
     ]
    }
   ],
   "source": [
    "obtain_mbtr('../../../nrel/icsd_ab3/cif_files/_CollCode100015.cif')"
   ]
  },
  {
   "cell_type": "code",
   "execution_count": null,
   "metadata": {},
   "outputs": [],
   "source": []
  }
 ],
 "metadata": {
  "kernelspec": {
   "display_name": "ssmcdat",
   "language": "python",
   "name": "python3"
  },
  "language_info": {
   "codemirror_mode": {
    "name": "ipython",
    "version": 3
   },
   "file_extension": ".py",
   "mimetype": "text/x-python",
   "name": "python",
   "nbconvert_exporter": "python",
   "pygments_lexer": "ipython3",
   "version": "3.10.0"
  },
  "orig_nbformat": 4,
  "vscode": {
   "interpreter": {
    "hash": "942b58b71b214d6019b739d374c6089632c350bd2bac6438bd9c88b74ed2db48"
   }
  }
 },
 "nbformat": 4,
 "nbformat_minor": 2
}
